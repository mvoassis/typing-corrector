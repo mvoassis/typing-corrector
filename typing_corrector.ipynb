{
  "nbformat": 4,
  "nbformat_minor": 0,
  "metadata": {
    "colab": {
      "name": "typing_corrector.ipynb",
      "provenance": [],
      "authorship_tag": "ABX9TyORISIwOYVHNaUJUH79Kjk1",
      "include_colab_link": true
    },
    "kernelspec": {
      "name": "python3",
      "display_name": "Python 3"
    },
    "language_info": {
      "name": "python"
    }
  },
  "cells": [
    {
      "cell_type": "markdown",
      "metadata": {
        "id": "view-in-github",
        "colab_type": "text"
      },
      "source": [
        "<a href=\"https://colab.research.google.com/github/mvoassis/typing-corrector/blob/main/typing_corrector.ipynb\" target=\"_parent\"><img src=\"https://colab.research.google.com/assets/colab-badge.svg\" alt=\"Open In Colab\"/></a>"
      ]
    },
    {
      "cell_type": "markdown",
      "source": [
        "# **Simple typing error corrector**\n",
        "\n",
        "#### *Marcos V. O. Assis (mvoassis@gmail.com)*\n",
        "\n",
        "***\n",
        "> ## Objective: \n",
        "\n",
        "Generate an algorithm capable of correcting misspelled words.\n",
        "\n",
        "> ## Language: \n",
        "\n",
        "For development and testing, words in Portuguese-BR were used.\n",
        "\n",
        "> ## Approach:\n",
        "\n",
        "1. Creation of a dictionary of correct words based on a dataset (Articles from the ALURA.com.br website)\n",
        "2. Creation of generation of possible words for correction based on the errors considered.\n",
        "3. Submission of the wrong word for correction\n",
        "4. Selection of the generated word with the highest probability (frequency) of appearing in the dataset.\n",
        "\n",
        "> ## Typing errors considered:\n",
        "\n",
        "* Word with missing letter\n",
        "* Word with extra letter\n",
        "* Word with misspelled letter\n",
        "* Word with swapped letters\n",
        "* Word with errors in 2 levels\n"
      ],
      "metadata": {
        "id": "QbtNWmjPJ6t0"
      }
    },
    {
      "cell_type": "markdown",
      "source": [
        "# Importing text file"
      ],
      "metadata": {
        "id": "mnSgj6b0Hlln"
      }
    },
    {
      "cell_type": "code",
      "execution_count": null,
      "metadata": {
        "colab": {
          "base_uri": "https://localhost:8080/"
        },
        "id": "UoVjnRdXE5Mn",
        "outputId": "ed05c1da-b261-4693-8f8a-a6547a1e5583"
      },
      "outputs": [
        {
          "output_type": "stream",
          "name": "stdout",
          "text": [
            "\n",
            "\n",
            "\n",
            "imagem \n",
            "\n",
            "Temos a seguinte classe que representa um usuário no nosso sistema:\n",
            "\n",
            "java\n",
            "\n",
            "Para salvar um novo usuário, várias validações são feitas, como por exemplo: Ver se o nome só contém letras, [**o CPF só números**] e ver se o usuário possui no mínimo 18 anos. Veja o método que faz essa validação:\n",
            "\n",
            "java \n",
            "\n",
            "Suponha agora que eu tenha outra classe, a classe `Produto`, que contém um atributo nome e eu quero fazer a mesma validação que fiz para o nome do usuário: Ver se só contém letras. E aí? Vou\n"
          ]
        }
      ],
      "source": [
        "with open('artigos.txt','r') as f:\n",
        "  articles = f.read()\n",
        "\n",
        "print(articles[:500])"
      ]
    },
    {
      "cell_type": "markdown",
      "source": [
        "# Preprocessing"
      ],
      "metadata": {
        "id": "nBbQcJz7INJC"
      }
    },
    {
      "cell_type": "markdown",
      "source": [
        "Number of words in the dataset"
      ],
      "metadata": {
        "id": "gNwtRxRuIS0W"
      }
    },
    {
      "cell_type": "code",
      "source": [
        "# Performing initial split - list of tokens\n",
        "tokens = articles.split() \n",
        "\n",
        "# Number of tokens\n",
        "print('Number of tokens: ',len(tokens))"
      ],
      "metadata": {
        "colab": {
          "base_uri": "https://localhost:8080/"
        },
        "id": "XTMB-gTZGexE",
        "outputId": "12d035a2-aa36-4931-dafc-7956362a2769"
      },
      "execution_count": null,
      "outputs": [
        {
          "output_type": "stream",
          "name": "stdout",
          "text": [
            "Number of tokens:  416903\n"
          ]
        }
      ]
    },
    {
      "cell_type": "code",
      "source": [
        "tokens[:5]"
      ],
      "metadata": {
        "colab": {
          "base_uri": "https://localhost:8080/"
        },
        "id": "F2QgvsffJEV7",
        "outputId": "74c41162-fd63-4412-f686-8b46c8e37e3b"
      },
      "execution_count": null,
      "outputs": [
        {
          "output_type": "execute_result",
          "data": {
            "text/plain": [
              "['imagem', 'Temos', 'a', 'seguinte', 'classe']"
            ]
          },
          "metadata": {},
          "execution_count": 3
        }
      ]
    },
    {
      "cell_type": "code",
      "source": [
        "# Same thing, but using nltk to sepparete signals as well..\n",
        "#nltk = natural language tool kit \n",
        "\n",
        "import nltk\n",
        "nltk.download('punkt')\n",
        "\n",
        "token_list = nltk.tokenize.word_tokenize(articles)"
      ],
      "metadata": {
        "colab": {
          "base_uri": "https://localhost:8080/"
        },
        "id": "l-R6A1EpJGiN",
        "outputId": "500814fa-03d8-4114-8e07-0dbb262edad1"
      },
      "execution_count": null,
      "outputs": [
        {
          "output_type": "stream",
          "name": "stdout",
          "text": [
            "[nltk_data] Downloading package punkt to /root/nltk_data...\n",
            "[nltk_data]   Unzipping tokenizers/punkt.zip.\n"
          ]
        }
      ]
    },
    {
      "cell_type": "code",
      "source": [
        "# Number of tokens\n",
        "print('Number of tokens: ',len(token_list))"
      ],
      "metadata": {
        "colab": {
          "base_uri": "https://localhost:8080/"
        },
        "id": "BuZ8HurtKXvq",
        "outputId": "3375244a-b4c5-4a50-9192-c814191018d5"
      },
      "execution_count": null,
      "outputs": [
        {
          "output_type": "stream",
          "name": "stdout",
          "text": [
            "Number of tokens:  490772\n"
          ]
        }
      ]
    },
    {
      "cell_type": "code",
      "source": [
        "# returning only words, excluding non alphabetical symbols\n",
        "def split_words(token_list):\n",
        "  splitted_words = []\n",
        "  for token in token_list:\n",
        "    if(token.isalpha()):\n",
        "      splitted_words.append(token)\n",
        "  return splitted_words"
      ],
      "metadata": {
        "id": "Yb3lGHvXKzqa"
      },
      "execution_count": null,
      "outputs": []
    },
    {
      "cell_type": "code",
      "source": [
        "splitted_words = split_words(token_list)"
      ],
      "metadata": {
        "id": "bkJvaMdDVvYU"
      },
      "execution_count": null,
      "outputs": []
    },
    {
      "cell_type": "code",
      "source": [
        "# Total Number of words\n",
        "print('Number of words: ',len(splitted_words))"
      ],
      "metadata": {
        "colab": {
          "base_uri": "https://localhost:8080/"
        },
        "id": "iDIHn6rnWNsB",
        "outputId": "63c562ee-b1ae-4265-d3fb-45bea0b19cc9"
      },
      "execution_count": null,
      "outputs": [
        {
          "output_type": "stream",
          "name": "stdout",
          "text": [
            "Number of words:  393914\n"
          ]
        }
      ]
    },
    {
      "cell_type": "code",
      "source": [
        "# Normalizing word list\n",
        "\n",
        "def normalization(word_list):\n",
        "  normalized_list = []\n",
        "  for word in word_list:\n",
        "    normalized_list.append(word.lower())\n",
        "  return normalized_list"
      ],
      "metadata": {
        "id": "1ldGOfO5WW-e"
      },
      "execution_count": null,
      "outputs": []
    },
    {
      "cell_type": "code",
      "source": [
        "norm_splitted_words = normalization(splitted_words)\n",
        "norm_splitted_words[:5]"
      ],
      "metadata": {
        "colab": {
          "base_uri": "https://localhost:8080/"
        },
        "id": "zotTJLBhW2dl",
        "outputId": "895a7bb7-d830-40a8-8004-a616f4c21aa9"
      },
      "execution_count": null,
      "outputs": [
        {
          "output_type": "execute_result",
          "data": {
            "text/plain": [
              "['imagem', 'temos', 'a', 'seguinte', 'classe']"
            ]
          },
          "metadata": {},
          "execution_count": 10
        }
      ]
    },
    {
      "cell_type": "code",
      "source": [
        "# Removing repeated values\n",
        "\n",
        "set([1,2,3,3,4,5,5,6,6,6,7])"
      ],
      "metadata": {
        "colab": {
          "base_uri": "https://localhost:8080/"
        },
        "id": "_BWmgdz3YlBq",
        "outputId": "01bfb91b-91e2-4c5e-b6e1-b029e3a1d8ed"
      },
      "execution_count": null,
      "outputs": [
        {
          "output_type": "execute_result",
          "data": {
            "text/plain": [
              "{1, 2, 3, 4, 5, 6, 7}"
            ]
          },
          "metadata": {},
          "execution_count": 11
        }
      ]
    },
    {
      "cell_type": "code",
      "source": [
        "unique_words = set(norm_splitted_words)\n",
        "\n",
        "# Total Number of unique words\n",
        "print('Number of Unique words: ',len(unique_words))"
      ],
      "metadata": {
        "colab": {
          "base_uri": "https://localhost:8080/"
        },
        "id": "vLayFXurY0So",
        "outputId": "fcbde88e-0263-4d3c-f8bc-92f554028c09"
      },
      "execution_count": null,
      "outputs": [
        {
          "output_type": "stream",
          "name": "stdout",
          "text": [
            "Number of Unique words:  17652\n"
          ]
        }
      ]
    },
    {
      "cell_type": "markdown",
      "source": [
        "# Constructing the Corrector"
      ],
      "metadata": {
        "id": "mzdS_ewBaTFL"
      }
    },
    {
      "cell_type": "markdown",
      "source": [
        "## Inserting letters"
      ],
      "metadata": {
        "id": "jq-44V8GaWb4"
      }
    },
    {
      "cell_type": "code",
      "source": [
        "def insert_letters(slices):\n",
        "  new_words = []\n",
        "  letters = 'abcdefghihklmnopqrstuvxyzáâàãéêèẽíîìĩóôõòúûùũñç'\n",
        "  for L, R in slices:   # left and right parts\n",
        "    for letter in letters:\n",
        "      new_words.append(L+letter+R)\n",
        "  return new_words\n",
        "\n",
        "def word_generator(word):\n",
        "  slices = []\n",
        "  for i in range(len(word)+1):\n",
        "    slices.append((word[:i],word[i:]))\n",
        "  generated_words = insert_letters(slices)\n",
        "  return generated_words\n",
        "\n",
        "#possible_words = word_generator(test)"
      ],
      "metadata": {
        "id": "hBe1TFKtcI8L"
      },
      "execution_count": null,
      "outputs": []
    },
    {
      "cell_type": "code",
      "source": [
        "total_words = len(set(norm_splitted_words))     # Total number of words\n",
        "frequency = nltk.FreqDist(norm_splitted_words)  # Frequency of each word\n",
        "#print(frequency.most_common(10))               # printing top 10 most frequent word\n",
        "\n",
        "# Return the probability of a word\n",
        "def probability(generated_word):\n",
        "  return frequency[generated_word]/total_words\n",
        "\n",
        "# Return the word with highest probability of correctness\n",
        "def corrector(word):\n",
        "  generated_words = word_generator(word)\n",
        "  correct_word = max(generated_words, key=probability)\n",
        "  return correct_word"
      ],
      "metadata": {
        "id": "HwctBW_Zfri5"
      },
      "execution_count": null,
      "outputs": []
    },
    {
      "cell_type": "code",
      "source": [
        "# Testing the methods\n",
        "\n",
        "test = 'lgica'\n",
        "\n",
        "corrector(test)"
      ],
      "metadata": {
        "colab": {
          "base_uri": "https://localhost:8080/",
          "height": 35
        },
        "id": "fJrn1MSjhfJs",
        "outputId": "c2db6e70-9e06-4091-ab09-4a0380f1b320"
      },
      "execution_count": null,
      "outputs": [
        {
          "output_type": "execute_result",
          "data": {
            "text/plain": [
              "'lógica'"
            ],
            "application/vnd.google.colaboratory.intrinsic+json": {
              "type": "string"
            }
          },
          "metadata": {},
          "execution_count": 19
        }
      ]
    },
    {
      "cell_type": "markdown",
      "source": [
        "## Removing letters"
      ],
      "metadata": {
        "id": "8vJ7sHuUqOHY"
      }
    },
    {
      "cell_type": "code",
      "source": [
        "def deleting_letters(slices):\n",
        "  new_words = []\n",
        "  for L, R in slices:   # left and right parts\n",
        "    new_words.append(L+R[1:])\n",
        "  return new_words"
      ],
      "metadata": {
        "id": "c8S3kBkmqTw7"
      },
      "execution_count": null,
      "outputs": []
    },
    {
      "cell_type": "code",
      "source": [
        "# Reimplementing word generation function to include deleting_letters function\n",
        "\n",
        "def word_generator2(word):\n",
        "  slices = []\n",
        "  for i in range(len(word)+1):\n",
        "    slices.append((word[:i],word[i:]))\n",
        "  generated_words = insert_letters(slices)\n",
        "  generated_words += deleting_letters(slices)\n",
        "  return generated_words\n",
        "\n",
        "# Reimplementing corrector function\n",
        "\n",
        "def corrector2(word):\n",
        "  generated_words = word_generator2(word)\n",
        "  correct_word = max(generated_words, key=probability)\n",
        "  return correct_word"
      ],
      "metadata": {
        "id": "gYtIVVOZrXnp"
      },
      "execution_count": null,
      "outputs": []
    },
    {
      "cell_type": "markdown",
      "source": [
        "## Change letters"
      ],
      "metadata": {
        "id": "6Wcy3R3CvhO6"
      }
    },
    {
      "cell_type": "code",
      "source": [
        "def change_letters(slices):\n",
        "  new_words = []\n",
        "  letters = 'abcdefghihklmnopqrstuvxyzáâàãéêèẽíîìĩóôõòúûùũñç'\n",
        "  for L, R in slices:   # left and right parts\n",
        "    for letter in letters:\n",
        "      new_words.append(L+letter+R[1:])\n",
        "  return new_words"
      ],
      "metadata": {
        "id": "9N9-zlZsruxe"
      },
      "execution_count": null,
      "outputs": []
    },
    {
      "cell_type": "code",
      "source": [
        "# Reimplementing word generation function to include deleting_letters function\n",
        "\n",
        "def word_generator3(word):\n",
        "  slices = []\n",
        "  for i in range(len(word)+1):\n",
        "    slices.append((word[:i],word[i:]))\n",
        "  generated_words = insert_letters(slices)\n",
        "  generated_words += deleting_letters(slices)\n",
        "  generated_words += change_letters(slices)\n",
        "  return generated_words\n",
        "\n",
        "# Reimplementing corrector function\n",
        "\n",
        "def corrector3(word):\n",
        "  generated_words = word_generator3(word)\n",
        "  correct_word = max(generated_words, key=probability)\n",
        "  return correct_word"
      ],
      "metadata": {
        "id": "l8TzdvDAxeA1"
      },
      "execution_count": null,
      "outputs": []
    },
    {
      "cell_type": "markdown",
      "source": [
        "## Swapping letters"
      ],
      "metadata": {
        "id": "0wWTFJ29yvnc"
      }
    },
    {
      "cell_type": "code",
      "source": [
        "def swap_letters(slices):\n",
        "  new_words = []\n",
        "  for L, R in slices:   # left and right parts\n",
        "    if len(R)>1:\n",
        "      new_words.append(L+R[1]+R[0]+R[2:])\n",
        "  return new_words"
      ],
      "metadata": {
        "id": "zWWs3-P-yxir"
      },
      "execution_count": null,
      "outputs": []
    },
    {
      "cell_type": "code",
      "source": [
        "# Reimplementing word generation function to include deleting_letters function\n",
        "\n",
        "def word_generator4(word):\n",
        "  slices = []\n",
        "  for i in range(len(word)+1):\n",
        "    slices.append((word[:i],word[i:]))\n",
        "  generated_words = insert_letters(slices)\n",
        "  generated_words += deleting_letters(slices)\n",
        "  generated_words += change_letters(slices)\n",
        "  generated_words += swap_letters(slices)\n",
        "  return generated_words\n",
        "\n",
        "# Reimplementing corrector function\n",
        "\n",
        "def corrector4(word):\n",
        "  generated_words = word_generator4(word)\n",
        "  correct_word = max(generated_words, key=probability)\n",
        "  return correct_word"
      ],
      "metadata": {
        "id": "IbZRviTuzMep"
      },
      "execution_count": null,
      "outputs": []
    },
    {
      "cell_type": "markdown",
      "source": [
        "## Boosted Word Generator"
      ],
      "metadata": {
        "id": "nYH24BD13xkG"
      }
    },
    {
      "cell_type": "code",
      "source": [
        "# implementing a 2-layer depth word generation\n",
        "\n",
        "def boosted_word_generator(generated_words):\n",
        "  new_words = []\n",
        "  for word in generated_words:\n",
        "    new_words += word_generator4(word)\n",
        "  return new_words"
      ],
      "metadata": {
        "id": "kObpyXYD31Ay"
      },
      "execution_count": null,
      "outputs": []
    },
    {
      "cell_type": "code",
      "source": [
        "# Reimplementing corrector function\n",
        "\n",
        "def boosted_corrector(test_word, vocabulary):\n",
        "  generated_words = word_generator4(test_word)\n",
        "  boosted_words = boosted_word_generator(generated_words)\n",
        "  all_words = set(generated_words+boosted_words)\n",
        "\n",
        "  candidates = [test_word]\n",
        "  for word in all_words:\n",
        "    if word in vocabulary:\n",
        "      candidates.append(word)\n",
        "\n",
        "  correct_word = max(all_words, key=probability)\n",
        "  return correct_word"
      ],
      "metadata": {
        "id": "LbOFBiM04pvg"
      },
      "execution_count": null,
      "outputs": []
    },
    {
      "cell_type": "markdown",
      "source": [
        "# Testing "
      ],
      "metadata": {
        "id": "FHyNorgSknYY"
      }
    },
    {
      "cell_type": "markdown",
      "source": [
        "## Loading test dataset"
      ],
      "metadata": {
        "id": "znSJr61Qsd2Q"
      }
    },
    {
      "cell_type": "code",
      "source": [
        "# Loading test dataset\n",
        "# txt file, each line containing the correct and mispelled word,\n",
        "#sepparated by a single space.\n",
        "\n",
        "def create_testset(file_name):\n",
        "  list_testset = []\n",
        "  f = open(file_name,'r')\n",
        "  for line in f:\n",
        "    correct, error = line.split()\n",
        "    list_testset.append((correct,error))\n",
        "  f.close()\n",
        "  return list_testset\n",
        "\n",
        "test_list = create_testset('palavras.txt')\n",
        "test_list[:3]"
      ],
      "metadata": {
        "colab": {
          "base_uri": "https://localhost:8080/"
        },
        "id": "z7sT6p2Gkqvb",
        "outputId": "92d0a291-2c8b-4600-b52f-857af4fc4fe6"
      },
      "execution_count": null,
      "outputs": [
        {
          "output_type": "execute_result",
          "data": {
            "text/plain": [
              "[('podemos', 'pyodemos'), ('esse', 'esje'), ('já', 'jrá')]"
            ]
          },
          "metadata": {},
          "execution_count": 28
        }
      ]
    },
    {
      "cell_type": "markdown",
      "source": [
        "## Test 1 - Including letters"
      ],
      "metadata": {
        "id": "W75pJLXFshX1"
      }
    },
    {
      "cell_type": "code",
      "source": [
        "# Constructing the evaluation function for letter insertion\n",
        "\n",
        "def evaluator(tests):\n",
        "  number_of_words = len(tests)\n",
        "  corrects = 0\n",
        "  for correct, error in tests:\n",
        "    corrected_word = corrector(error)\n",
        "    if(corrected_word==correct):\n",
        "      corrects+=1\n",
        "  correct_rate = round((corrects / number_of_words)*100,2)\n",
        "  print(f'Correctness rate: {correct_rate}% of {number_of_words} words.')\n",
        "  return correct_rate"
      ],
      "metadata": {
        "id": "qWPh4LMTlrCB"
      },
      "execution_count": null,
      "outputs": []
    },
    {
      "cell_type": "code",
      "source": [
        "# Testing letter insertion\n",
        "\n",
        "t1 = evaluator(test_list)"
      ],
      "metadata": {
        "colab": {
          "base_uri": "https://localhost:8080/"
        },
        "id": "we71OPnAni2R",
        "outputId": "7c00e05c-c197-476d-eb59-714dded57964"
      },
      "execution_count": null,
      "outputs": [
        {
          "output_type": "stream",
          "name": "stdout",
          "text": [
            "Correctness rate: 1.08% of 186 words.\n"
          ]
        }
      ]
    },
    {
      "cell_type": "markdown",
      "source": [
        "## Test 2 - Including and Excluding letters\n",
        "\n"
      ],
      "metadata": {
        "id": "MJXqXCUasmti"
      }
    },
    {
      "cell_type": "code",
      "source": [
        "# Constructing the evaluation function for letter insertion and exclusion\n",
        "\n",
        "def evaluator2(tests):\n",
        "  number_of_words = len(tests)\n",
        "  corrects = 0\n",
        "  for correct, error in tests:\n",
        "    corrected_word = corrector2(error)\n",
        "    if(corrected_word==correct):\n",
        "      corrects+=1\n",
        "  correct_rate = round((corrects / number_of_words)*100,2)\n",
        "  print(f'Correctness rate: {correct_rate}% of {number_of_words} words.')\n",
        "  return correct_rate"
      ],
      "metadata": {
        "id": "4Br347S5oPEZ"
      },
      "execution_count": null,
      "outputs": []
    },
    {
      "cell_type": "code",
      "source": [
        "t2 = evaluator2(test_list)"
      ],
      "metadata": {
        "colab": {
          "base_uri": "https://localhost:8080/"
        },
        "id": "SM90mdZxszTQ",
        "outputId": "6e814df9-ee26-48cb-de28-df647a9f101f"
      },
      "execution_count": null,
      "outputs": [
        {
          "output_type": "stream",
          "name": "stdout",
          "text": [
            "Correctness rate: 41.4% of 186 words.\n"
          ]
        }
      ]
    },
    {
      "cell_type": "markdown",
      "source": [
        "## Test 3 - Including, Excluding and Changing letters"
      ],
      "metadata": {
        "id": "Z3upCscQxxjL"
      }
    },
    {
      "cell_type": "code",
      "source": [
        "# Constructing the evaluation function for letter insertion, exclusion and changing\n",
        "\n",
        "def evaluator3(tests):\n",
        "  number_of_words = len(tests)\n",
        "  corrects = 0\n",
        "  for correct, error in tests:\n",
        "    corrected_word = corrector3(error)\n",
        "    if(corrected_word==correct):\n",
        "      corrects+=1\n",
        "  correct_rate = round((corrects / number_of_words)*100,2)\n",
        "  print(f'Correctness rate: {correct_rate}% of {number_of_words} words.')\n",
        "  return correct_rate"
      ],
      "metadata": {
        "id": "19NnaIlQs2ox"
      },
      "execution_count": null,
      "outputs": []
    },
    {
      "cell_type": "code",
      "source": [
        "t3 = evaluator3(test_list)"
      ],
      "metadata": {
        "colab": {
          "base_uri": "https://localhost:8080/"
        },
        "id": "IFINeQlvx5qe",
        "outputId": "37af26cd-dfbc-4c29-f824-bb4f25bc667f"
      },
      "execution_count": null,
      "outputs": [
        {
          "output_type": "stream",
          "name": "stdout",
          "text": [
            "Correctness rate: 76.88% of 186 words.\n"
          ]
        }
      ]
    },
    {
      "cell_type": "markdown",
      "source": [
        "## Test 4 - Including, Excluding, Changing and Swapping letters"
      ],
      "metadata": {
        "id": "TxDlZLGKzcUO"
      }
    },
    {
      "cell_type": "code",
      "source": [
        "# Constructing the evaluation function for letter insertion, exclusion, changing and swapping\n",
        "\n",
        "def evaluator4(tests):\n",
        "  number_of_words = len(tests)\n",
        "  corrects = 0\n",
        "  for correct, error in tests:\n",
        "    corrected_word = corrector4(error)\n",
        "    if(corrected_word==correct):\n",
        "      corrects+=1\n",
        "  correct_rate = round((corrects / number_of_words)*100,2)\n",
        "  print(f'Correctness rate: {correct_rate}% of {number_of_words} words.')\n",
        "  return correct_rate"
      ],
      "metadata": {
        "id": "oyDg9jaix8cu"
      },
      "execution_count": null,
      "outputs": []
    },
    {
      "cell_type": "code",
      "source": [
        "t4 = evaluator4(test_list)"
      ],
      "metadata": {
        "colab": {
          "base_uri": "https://localhost:8080/"
        },
        "id": "X7buPttVz-a4",
        "outputId": "ac855e3a-25cc-48fa-c890-c8b2aa8bb9f0"
      },
      "execution_count": null,
      "outputs": [
        {
          "output_type": "stream",
          "name": "stdout",
          "text": [
            "Correctness rate: 76.88% of 186 words.\n"
          ]
        }
      ]
    },
    {
      "cell_type": "markdown",
      "source": [
        "## Test 4 \n",
        "\n",
        "- Including, Excluding, Changing and Swapping letters\n",
        "- Calculating unknown word rate"
      ],
      "metadata": {
        "id": "IOtuVyhE1uyX"
      }
    },
    {
      "cell_type": "code",
      "source": [
        "# Constructing the evaluation function for letter insertion, exclusion, changing and swapping\n",
        "\n",
        "def evaluator4(tests,vocabulary):\n",
        "  number_of_words = len(tests)\n",
        "  corrects = 0\n",
        "  unknown = 0\n",
        "  for correct, error in tests:\n",
        "    corrected_word = corrector4(error)\n",
        "    unknown += (correct not in vocabulary)\n",
        "    if(corrected_word==correct):\n",
        "      corrects+=1      \n",
        "  \n",
        "  correct_rate = round((corrects / number_of_words)*100,2)\n",
        "  unknown_rate = round((unknown / number_of_words)*100,2)\n",
        "\n",
        "  print(f'Correctness rate: {correct_rate}% of {number_of_words} words.')\n",
        "  print(f'Unknown Word rate: {unknown_rate}% of {number_of_words} words.')\n",
        "  return correct_rate"
      ],
      "metadata": {
        "id": "K-N6uldJ0AjL"
      },
      "execution_count": null,
      "outputs": []
    },
    {
      "cell_type": "code",
      "source": [
        "vocabulary = set(norm_splitted_words)\n",
        "\n",
        "t4 = evaluator4(test_list,vocabulary)"
      ],
      "metadata": {
        "colab": {
          "base_uri": "https://localhost:8080/"
        },
        "id": "7LeLAkJc2a_F",
        "outputId": "424d9859-4900-43dd-b6c1-41f59a415bda"
      },
      "execution_count": null,
      "outputs": [
        {
          "output_type": "stream",
          "name": "stdout",
          "text": [
            "Correctness rate: 76.88% of 186 words.\n",
            "Unknown Word rate: 6.99% of 186 words.\n"
          ]
        }
      ]
    },
    {
      "cell_type": "markdown",
      "source": [
        "## Test 5 - Boosted corrector\n"
      ],
      "metadata": {
        "id": "MLFfAFyx7td6"
      }
    },
    {
      "cell_type": "code",
      "source": [
        "# Constructing the evaluation function for letter insertion, exclusion, changing and swapping\n",
        "\n",
        "def evaluator5(tests,vocabulary):\n",
        "  number_of_words = len(tests)\n",
        "  corrects = 0\n",
        "  unknown = 0\n",
        "  for correct, error in tests:\n",
        "    corrected_word = boosted_corrector(error,vocabulary)\n",
        "    unknown += (correct not in vocabulary)\n",
        "    if(corrected_word==correct):\n",
        "      corrects+=1 \n",
        "  #  else:\n",
        "  #    print(correct + \": \" + error + \" - \" + corrector4(error) + ' - ' + corrected_word)     \n",
        "\n",
        "  correct_rate = round((corrects / number_of_words)*100,2)\n",
        "  unknown_rate = round((unknown / number_of_words)*100,2)\n",
        "\n",
        "  print(f'Correctness rate: {correct_rate}% of {number_of_words} words.')\n",
        "  print(f'Unknown Word rate: {unknown_rate}% of {number_of_words} words.')\n",
        "  return correct_rate"
      ],
      "metadata": {
        "id": "IKVX55Wa2naD"
      },
      "execution_count": null,
      "outputs": []
    },
    {
      "cell_type": "code",
      "source": [
        "vocabulary = set(norm_splitted_words)\n",
        "\n",
        "t5 = evaluator5(test_list,vocabulary)"
      ],
      "metadata": {
        "colab": {
          "base_uri": "https://localhost:8080/"
        },
        "id": "3qHM5rXm8pIs",
        "outputId": "ba173446-7120-4491-8f2f-2e032e4824dc"
      },
      "execution_count": null,
      "outputs": [
        {
          "output_type": "stream",
          "name": "stdout",
          "text": [
            "Correctness rate: 55.38% of 186 words.\n",
            "Unknown Word rate: 6.99% of 186 words.\n"
          ]
        }
      ]
    },
    {
      "cell_type": "markdown",
      "source": [
        "# Final Insights"
      ],
      "metadata": {
        "id": "izCRmrtfsRcc"
      }
    },
    {
      "cell_type": "code",
      "source": [
        "from matplotlib import figure\n",
        "import seaborn as sns\n",
        "import pandas as pd\n",
        "tests = [t1, t2, t3, t4, t5]\n",
        "tests = pd.DataFrame(tests,columns=['Success_Rate'])\n",
        "\n",
        "sns.set(rc = {'figure.figsize':(10,4)})\n",
        "ax = sns.barplot(y = 'Success_Rate', x = tests.index, data=tests, errwidth=0)\n",
        "ax.set_title('Comparison of Success Rate between different tests', fontsize=18, loc='left')\n",
        "#ax.set_xticklabel(['Test 1','Test 2','Test 3','Test 4','Test 5','Test 6',])\n",
        "ax.set_xlabel('Tests')\n",
        "ax.set_ylabel('Success Rate')\n",
        "ax.set_xticklabels(range(1,6))\n",
        "ax = ax"
      ],
      "metadata": {
        "colab": {
          "base_uri": "https://localhost:8080/",
          "height": 305
        },
        "id": "wOWM2y7-sU0w",
        "outputId": "45d496a6-a9b4-4599-a815-1e5b74c8ab1b"
      },
      "execution_count": null,
      "outputs": [
        {
          "output_type": "display_data",
          "data": {
            "text/plain": [
              "<Figure size 720x288 with 1 Axes>"
            ],
            "image/png": "[encoded data removed]"
          },
          "metadata": {}
        }
      ]
    },
    {
      "cell_type": "markdown",
      "source": [
        "**Tests 1 and 2**\n",
        "\n",
        "As observed, the success rate increased considerably when implementing inclusion and exclusion characters together (Test 2), increasing more than 40% of the success rate, in comparison to the inclusion character function alone (Test 1). \n",
        "\n",
        "**Test 3**\n",
        "\n",
        "Implementing the substitution of characters (Test 3) further incleased the success rate, achieving 76.88%.\n",
        "\n",
        "**Test 4**\n",
        "\n",
        "The character swapping (Test 4) did not change the results, probably because the training set does not present this type of mispelling.\n",
        "\n",
        "**Test 5**\n",
        "\n",
        "The implemented boosting function, which considers 2-level depth mispelling, achieved worse results compared to Test 4, achieving 55.38% of success rate. This is due the boosted function tends to select words with fewer characters, which are more common and, thus, appears more frequently on the dataset. The \"max\" function was used to select the corrected word (higher probability), which caused this behavior. \n",
        "\n",
        "**Unknown Words**\n",
        "\n",
        "6.99% of the words present on the testset are not present in the training vocabulary."
      ],
      "metadata": {
        "id": "vHNBcCFW3vDE"
      }
    },
    {
      "cell_type": "markdown",
      "source": [
        "**Further steps for improvement**\n",
        "\n",
        "\n",
        "1.   Increase the training dataset to improve the classification; \n",
        "2.   Study another selection method besides the \"max\" function; \n",
        "3.   Test with a greater test dataset. \n",
        "\n"
      ],
      "metadata": {
        "id": "T4iIkGJn8Im1"
      }
    }
  ]
}